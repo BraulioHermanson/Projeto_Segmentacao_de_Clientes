{
 "cells": [
  {
   "cell_type": "markdown",
   "metadata": {},
   "source": [
    "Para fins didáticos, a primeira versão do estudo foi feita sem pré-processamento, para comparar com versão posterior utilizando pipeline com pré-processamento, PCA e K-Means.\n",
    "\n",
    "Assim, a versão deste notebook não deve ser considerada para análises mais profundas."
   ]
  },
  {
   "cell_type": "code",
   "execution_count": null,
   "metadata": {},
   "outputs": [],
   "source": []
  }
 ],
 "metadata": {
  "language_info": {
   "name": "python"
  }
 },
 "nbformat": 4,
 "nbformat_minor": 2
}
